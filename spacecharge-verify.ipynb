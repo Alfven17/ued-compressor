{
 "cells": [
  {
   "cell_type": "code",
   "execution_count": 1,
   "id": "4a3295ea-9e1b-4009-a15b-11ab308affcf",
   "metadata": {
    "tags": []
   },
   "outputs": [
    {
     "name": "stdout",
     "output_type": "stream",
     "text": [
      "Global variable Gamma0 set to 9.241\n"
     ]
    }
   ],
   "source": [
    "%load_ext autoreload\n",
    "%load_ext rich\n",
    "%autoreload 2\n",
    "import numpy as np\n",
    "from rich import print\n",
    "from pathlib import Path\n",
    "from functools import reduce\n",
    "from Matrix import Drift, Quad, Bend, ThinQuad, Gamma0, Sextupole, Sben, EntranceEdge, ExitEdge, transport, transport2, ListMultiply\n",
    "from scipy.optimize import minimize, root_scalar, minimize_scalar\n",
    "from scipy.constants import m_e,c,e\n",
    "from scipy.special import i1,k1,kn\n",
    "from scipy.signal import savgol_filter\n",
    "from matplotlib import pyplot as plt\n",
    "from pygpt import gdftopandas\n",
    "\n",
    "plt.style.use('/Users/tianzhe/Beams/lib/BDplotter.mplstyle')"
   ]
  },
  {
   "cell_type": "markdown",
   "id": "c63e888d-f60a-460c-9b5f-a5def23d821f",
   "metadata": {},
   "source": [
    "## LSC calculation\n",
    "\n",
    "reference:\n",
    "    \n",
    "https://journals.aps.org/prab/abstract/10.1103/PhysRevAccelBeams.24.051303"
   ]
  },
  {
   "cell_type": "code",
   "execution_count": 2,
   "id": "181dd450-ba77-44fe-9bc6-4f651cb11320",
   "metadata": {
    "tags": []
   },
   "outputs": [],
   "source": [
    "def convert_delta_to_energy(delta, gamma):\n",
    "    \"\"\"\n",
    "    convert the last coordinate in beam from delta (trace space) to energy (in eV)\n",
    "    \"\"\"\n",
    "    mc2 = 0.51099895e6\n",
    "    BG0 = np.sqrt(gamma**2 - 1)\n",
    "    p0c = BG0 * mc2\n",
    "    pc = (delta + 1) * p0c\n",
    "    energy = np.sqrt(pc*pc + mc2*mc2)\n",
    "    return energy\n",
    "    \n",
    "def convert_energy_to_delta(energy):\n",
    "    \"\"\"\n",
    "    convert the last coordinate in beam from delta (trace space) to energy (in eV)\n",
    "    \"\"\"\n",
    "    mc2 = 0.51099895e6\n",
    "    assert np.mean(energy) > mc2\n",
    "    gamma = energy / mc2\n",
    "    BG = np.sqrt(gamma**2 - 1)\n",
    "    delta = BG / BG.mean() - 1\n",
    "    return delta\n",
    "        \n",
    "def convert_gamma_to_p(gamma):\n",
    "    mc2 = 0.51099895e6\n",
    "    E = gamma * mc2\n",
    "    return np.sqrt(E*E - mc2*mc2)\n",
    "\n",
    "def convert_dist_to_hist(z, bins = 128, n_points = 1001):\n",
    "    \"\"\"\n",
    "    given 1D distribution z, calculate smoothened 1D histogram \n",
    "    return density with n_points\n",
    "    \"\"\"\n",
    "    hist, bin_edges = np.histogram(z, bins=bins, density=True)\n",
    "    zs_center   = (bin_edges[1:] + bin_edges[:-1]) / 2\n",
    "    hist_smooth = savgol_filter(hist, window_length=10, polyorder=2)\n",
    "\n",
    "    zs_extended = np.linspace(zs_center.min() - zs_center.std(), zs_center.max() + zs_center.std(), n_points)\n",
    "    hist_extended = np.zeros(n_points)\n",
    "    condition = ( zs_extended >= zs_center.min() )& ( zs_extended <= zs_center.max() )\n",
    "    hist_extended[condition] = np.interp(zs_extended[condition], zs_center, hist_smooth)\n",
    "    \n",
    "    hist_extended = hist_extended / np.trapz(hist_extended,zs_extended)\n",
    "    return zs_extended, hist_extended"
   ]
  },
  {
   "cell_type": "code",
   "execution_count": 3,
   "id": "0a87276c-ba71-4cef-983b-6e14fa94c89a",
   "metadata": {
    "tags": []
   },
   "outputs": [],
   "source": [
    "def track_beam_w_LSC(beam, Leff, gamma=9.241, charge=100e-15):\n",
    "    \"\"\"\n",
    "    here gamma is gamma_0\n",
    "    \"\"\"\n",
    "    delta = beam[:,5]\n",
    "    energy = convert_delta_to_energy(delta, gamma)\n",
    "\n",
    "    Rb = (beam[:,0].std() + beam[:,2].std()) / 2 * 1.747\n",
    "    z0 = 119.916983 * np.pi\n",
    "\n",
    "    # convert to density \n",
    "    zn, histn = convert_dist_to_hist(beam[:,4])\n",
    "\n",
    "    # calculate LSC impedance\n",
    "    I_k = np.fft.fft(histn * c * charge)\n",
    "    k = np.fft.fftfreq(len(I_k), d=(zn[1]-zn[0])/2/np.pi)\n",
    "    xi = k * Rb / gamma\n",
    "\n",
    "    condition_negative = (xi < 0)\n",
    "    K1 = k1(xi).astype('complex128')\n",
    "    K1[condition_negative] = -1 * k1(abs(xi[condition_negative])) - 1j * np.pi * i1(abs(xi[condition_negative]))\n",
    "\n",
    "    impedance = 1j * z0 / np.pi / gamma / Rb  * np.real(1 - 2 * i1(xi) * K1)/xi\n",
    "    impedance[0] = 0\n",
    "    \n",
    "    # apply kick\n",
    "    delta_energy = - np.real(np.fft.ifft(impedance * Leff * I_k))\n",
    "    energy_new = energy + np.interp(beam[:,4], zn, delta_energy)\n",
    "    delta_new = convert_energy_to_delta(energy_new)\n",
    "    \n",
    "    return np.c_[beam[:,:5], delta_new]\n",
    "\n",
    "\n",
    "def track_drift_w_lsc(beam, drift_length, gamma=9.241, charge=100e-15, n_segments=None, return_beam_list=False):\n",
    "    if n_segments is None:\n",
    "        n_drifts = int(np.ceil(drift_length / 0.1))\n",
    "    else:\n",
    "        n_drifts = int(n_segments)\n",
    "        \n",
    "    dz = drift_length / n_drifts\n",
    "\n",
    "    if return_beam_list:\n",
    "        beam_list = []\n",
    "    \n",
    "    beam2 = np.copy(beam)\n",
    "    \n",
    "    for i in range(n_drifts):\n",
    "        D1 = Drift(dz)\n",
    "        beam2 = transport2(beam2, *D1)\n",
    "        beam2 = track_beam_w_LSC(beam2, dz, gamma, charge)\n",
    "        if return_beam_list:\n",
    "            beam_list.append(beam2)\n",
    "    \n",
    "    if not return_beam_list:\n",
    "        return beam2\n",
    "    else:\n",
    "        return beam_list\n",
    "    \n",
    "def track_quad_w_lsc(beam, quad_k1, quad_length, gamma=9.241, charge=100e-15):\n",
    "    beam2 = np.copy(beam)\n",
    "    Q1    = Quad(quad_k1, quad_length)\n",
    "    beam2 = transport2(beam2, *Q1)\n",
    "    beam2 = track_beam_w_LSC(beam2, quad_length, gamma, charge)    \n",
    "    return beam2\n",
    "\n",
    "\n",
    "def track_bend_w_lsc(beam, bend_rho, bend_theta, gamma=9.241, charge=100e-15, n_segments=2):\n",
    "    assert bend_rho * bend_theta > 0\n",
    "    B1_E1 = EntranceEdge(bend_rho)\n",
    "    B1_h  = Bend(bend_rho, bend_theta/n_segments)\n",
    "    B1_E2 = ExitEdge(bend_rho)\n",
    "\n",
    "    beam2 = np.copy(beam)\n",
    "    beam2 = transport2(beam2, *B1_E1)\n",
    "    \n",
    "    for i in range(n_segments):\n",
    "        beam2 = transport2(beam2, *B1_h)\n",
    "        beam2 = track_beam_w_LSC(beam2, bend_rho * bend_theta / n_segments)\n",
    "\n",
    "    beam2 = transport2(beam2, *B1_E2)\n",
    "    \n",
    "    return beam2\n",
    "\n",
    "def track_compressor_w_lsc(beam, bend_rho, bend_theta,\n",
    "                       q1_k1, q2_k1, q3_k1,\n",
    "                       d1_length, d2_length, quad_length,\n",
    "                       gamma=9.241, charge_in=100e-15, slit_width=None, compressor_type='ach3'):\n",
    "    \n",
    "    beam2 = np.copy(beam)\n",
    "    charge = charge_in\n",
    "    # B1\n",
    "    beam2 =  track_bend_w_lsc(beam2,  bend_rho,  bend_theta, gamma, charge)\n",
    "\n",
    "    if slit_width:\n",
    "        # D1\n",
    "        beam2 = track_drift_w_lsc(beam2, d1_length/2, gamma, charge)\n",
    "        assert abs(slit_width) > 20e-6\n",
    "        condition = (abs(beam2[:,0]) < slit_width)\n",
    "        beam2 = beam2[condition,:]\n",
    "        charge = len(beam2) / len(beam) * charge_in\n",
    "        print(f\"slit used. charge left {charge}.\")\n",
    "        beam2 = track_drift_w_lsc(beam2, d1_length/2, gamma, charge)\n",
    "\n",
    "    else:\n",
    "        # D1\n",
    "        beam2 = track_drift_w_lsc(beam2, d1_length, gamma, charge)\n",
    "    \n",
    " \n",
    "    \n",
    "    # Q1\n",
    "    beam2 =  track_quad_w_lsc(beam2, q1_k1, quad_length, gamma, charge)\n",
    "    # D2\n",
    "    beam2 = track_drift_w_lsc(beam2, d2_length, gamma, charge)\n",
    "    # Q2\n",
    "    beam2 =  track_quad_w_lsc(beam2, q2_k1, quad_length, gamma, charge)\n",
    "    # D2\n",
    "    beam2 = track_drift_w_lsc(beam2, d2_length, gamma, charge)\n",
    "    # Q3 (same as Q1)\n",
    "    beam2 =  track_quad_w_lsc(beam2, q3_k1, quad_length, gamma, charge)\n",
    "    # D1\n",
    "    beam2 = track_drift_w_lsc(beam2, d1_length, gamma, charge)\n",
    "    \n",
    "    if compressor_type == 'ach3':\n",
    "        # B2\n",
    "        beam2 =  track_bend_w_lsc(beam2,  bend_rho,  bend_theta, gamma, charge)\n",
    "    elif compressor_type == 'dog3':\n",
    "        # B2\n",
    "        beam2 =  track_bend_w_lsc(beam2, -bend_rho, -bend_theta, gamma, charge)\n",
    "        \n",
    "    return beam2"
   ]
  },
  {
   "cell_type": "code",
   "execution_count": 4,
   "id": "772c24bf-d48f-465f-81e0-54fe3b68601b",
   "metadata": {
    "tags": []
   },
   "outputs": [],
   "source": [
    "def load_gdf_screen_to_ts(filename):\n",
    "    _,_,dat = gdftopandas(filename)\n",
    "    \n",
    "    if 'Bx' in dat.keys():\n",
    "        p = dat['G'] * np.sqrt(dat['Bx'] ** 2 + dat['By'] ** 2 + dat['Bz'] ** 2)\n",
    "    elif 'GBx' in dat.keys():\n",
    "        p = np.sqrt(dat['GBx'] ** 2 + dat['GBy'] ** 2 + dat['GBz'] ** 2)\n",
    "        \n",
    "    if 'z' in dat.keys():\n",
    "        if dat['z'].std() > 1e-9:\n",
    "            zeta = dat['z']\n",
    "        else:\n",
    "            zeta = - dat['t']*c\n",
    "    else:\n",
    "        zeta = - dat['t']*c\n",
    "    zeta = zeta - zeta.mean()\n",
    "    delta = p / p.mean() - 1\n",
    "    \n",
    "    if 'xp' in dat.keys():\n",
    "        xp = dat['xp']\n",
    "        yp = dat['yp']\n",
    "    elif 'Bx' in dat.keys():\n",
    "        xp = dat['Bx'] / dat['Bz']\n",
    "        yp = dat['By'] / dat['Bz']\n",
    "    elif 'GBx' in dat.keys():\n",
    "        xp = dat['GBx'] / dat['GBz']\n",
    "        yp = dat['GBy'] / dat['GBz'] \n",
    "    else:\n",
    "        raise ValueError\n",
    "    \n",
    "    return np.c_[dat['x'], xp, dat['y'], yp, zeta, delta]\n",
    "\n",
    "def calc_chirp_from_ts(beam):\n",
    "    return np.mean(beam[:,4]* beam[:,5]) / np.mean(beam[:,4]**2)\n",
    "\n",
    "\n",
    "def calc_emittance(beam, direction=\"x\"):\n",
    "    if direction == \"x\":\n",
    "        x = beam[:,0]\n",
    "        xp = beam[:,1]\n",
    "    elif direction == \"y\":\n",
    "        x = beam[:,2]\n",
    "        xp = beam[:,3]\n",
    "    else:\n",
    "        raise ValueError\n",
    "    x = x - x.mean()\n",
    "    xp = xp - xp.mean()\n",
    "    x2m = np.mean(x*x)\n",
    "    xp2m = np.mean(xp*xp)\n",
    "    xxpm = np.mean(x*xp)\n",
    "    return np.sqrt(x2m * xp2m - xxpm * xxpm)\n",
    "\n",
    "def print_beam(beam, BG=9.18):\n",
    "    print(f\"X RMS     : {beam[:,0].std()*1e6:.3f} μm\")\n",
    "    print(f\"Y RMS     : {beam[:,2].std()*1e6:.3f} μm\")\n",
    "    print(f\"Z RMS     : {beam[:,4].std()*1e6:.3f} μm / {beam[:,4].std()/c*1e15:.3f} fs\")\n",
    "    print(f\"X emit_n  : {calc_emittance(beam,'x')*BG*1e9:.4f} nm\")\n",
    "    print(f\"Y emit_n  : {calc_emittance(beam,'y')*BG*1e9:.4f} nm\")\n",
    "    print(f\"delta RMS : {beam[:,5].std()*1e4:.3f} * (10^-4)\")\n",
    "    print(f\"chirp     : {np.mean(beam[:,4]*beam[:,5])/np.mean(beam[:,4]*beam[:,4]):.3f} m^-1\")"
   ]
  },
  {
   "cell_type": "markdown",
   "id": "9330221a-9ea1-4131-b17c-fd748c7f0fdd",
   "metadata": {},
   "source": [
    "## load GPT"
   ]
  },
  {
   "cell_type": "code",
   "execution_count": 5,
   "id": "0c1dbcb2-24eb-43de-8690-9dbad078da0f",
   "metadata": {
    "tags": []
   },
   "outputs": [],
   "source": [
    "beam0 = load_gdf_screen_to_ts(\"/Users/tianzhe/Beams/GPT/compareLSC/lsc.screen.1.000e-02 m.gdf\")\n",
    "beam1 = load_gdf_screen_to_ts(\"/Users/tianzhe/Beams/GPT/compareLSC/lsc.screen.6.000e-01 m.gdf\")"
   ]
  },
  {
   "cell_type": "code",
   "execution_count": 6,
   "id": "df775b88-20ad-4cee-b69c-b6f689642851",
   "metadata": {
    "tags": []
   },
   "outputs": [
    {
     "name": "stderr",
     "output_type": "stream",
     "text": [
      "/var/folders/9q/89ldym6x6cn42rmljbqmy2940000gn/T/ipykernel_46175/2419697512.py:23: RuntimeWarning: invalid value encountered in multiply\n",
      "  impedance = 1j * z0 / np.pi / gamma / Rb  * np.real(1 - 2 * i1(xi) * K1)/xi\n"
     ]
    }
   ],
   "source": [
    "beam2 = track_drift_w_lsc(beam0,0.59, n_segments=6)"
   ]
  },
  {
   "cell_type": "code",
   "execution_count": 7,
   "id": "b29c10b1-9915-468a-884a-f6b5aec36703",
   "metadata": {
    "tags": []
   },
   "outputs": [],
   "source": [
    "zeta0, delta0 = beam0[:,4], beam0[:,5]\n",
    "zeta1, delta1 = beam1[:,4], beam1[:,5]\n",
    "zeta2, delta2 = beam2[:,4], beam2[:,5]"
   ]
  },
  {
   "cell_type": "code",
   "execution_count": 8,
   "id": "fa1c9433-38f8-4cbb-baab-dcfc373a6ae5",
   "metadata": {
    "tags": []
   },
   "outputs": [
    {
     "data": {
      "text/html": [
       "<pre style=\"white-space:pre;overflow-x:auto;line-height:normal;font-family:Menlo,'DejaVu Sans Mono',consolas,'Courier New',monospace\"></pre>\n"
      ],
      "text/plain": []
     },
     "metadata": {},
     "output_type": "display_data"
    },
    {
     "data": {
      "image/png": "[encoded data removed]",
      "text/plain": [
       "\u001b[1m<\u001b[0m\u001b[1;95mFigure\u001b[0m\u001b[39m size 65\u001b[0m\u001b[1;36m0x550\u001b[0m\u001b[39m with \u001b[0m\u001b[1;36m1\u001b[0m\u001b[39m Axes\u001b[0m\u001b[1m>\u001b[0m"
      ]
     },
     "metadata": {},
     "output_type": "display_data"
    }
   ],
   "source": [
    "fig, ax = plt.subplots(figsize=(6.5,5.5))\n",
    "ax.scatter(zeta0*1e6, delta0*1e4,s=0.1,alpha=0.3,rasterized=True,label='initial')\n",
    "ax.scatter(zeta1*1e6, delta1*1e4,s=0.1,alpha=0.3,rasterized=True,label='after drift, GPT')\n",
    "ax.scatter(zeta2*1e6, delta2*1e4,s=0.1,alpha=0.3,rasterized=True,label='after drift, 1D LSC model')\n",
    "\n",
    "\n",
    "ax.set_xlabel(\"$\\\\zeta$ ($\\\\mu$m)\")\n",
    "ax.set_ylabel(\"$\\\\delta$ ($10^{-4}$)\")\n",
    "ax.set_xlim(-110,110)\n",
    "ax.set_ylim(-30,30)\n",
    "# ax.set_title(\"LPS comparison in a 0.6m drift\")\n",
    "ax.grid()\n",
    "ax.legend(markerscale=30)\n",
    "fig.tight_layout()\n",
    "plt.show()"
   ]
  },
  {
   "cell_type": "code",
   "execution_count": null,
   "id": "2ff9c8fb-6e64-4235-9084-ecba5d9df55c",
   "metadata": {},
   "outputs": [],
   "source": []
  }
 ],
 "metadata": {
  "kernelspec": {
   "display_name": "Python 3 (ipykernel)",
   "language": "python",
   "name": "python3"
  },
  "language_info": {
   "codemirror_mode": {
    "name": "ipython",
    "version": 3
   },
   "file_extension": ".py",
   "mimetype": "text/x-python",
   "name": "python",
   "nbconvert_exporter": "python",
   "pygments_lexer": "ipython3",
   "version": "3.11.8"
  }
 },
 "nbformat": 4,
 "nbformat_minor": 5
}
